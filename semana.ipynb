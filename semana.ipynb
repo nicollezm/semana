{
  "nbformat": 4,
  "nbformat_minor": 0,
  "metadata": {
    "colab": {
      "provenance": [],
      "authorship_tag": "ABX9TyPdHsJGyEPHNiqfuyXCcy5f",
      "include_colab_link": true
    },
    "kernelspec": {
      "name": "python3",
      "display_name": "Python 3"
    },
    "language_info": {
      "name": "python"
    }
  },
  "cells": [
    {
      "cell_type": "markdown",
      "metadata": {
        "id": "view-in-github",
        "colab_type": "text"
      },
      "source": [
        "<a href=\"https://colab.research.google.com/github/nicollezm/semana/blob/main/semana.ipynb\" target=\"_parent\"><img src=\"https://colab.research.google.com/assets/colab-badge.svg\" alt=\"Open In Colab\"/></a>"
      ]
    },
    {
      "cell_type": "code",
      "execution_count": 1,
      "metadata": {
        "colab": {
          "base_uri": "https://localhost:8080/"
        },
        "id": "42TZvlZL9GBI",
        "outputId": "ce7f7893-7137-40f1-c932-64bcbeccca5c"
      },
      "outputs": [
        {
          "output_type": "stream",
          "name": "stdout",
          "text": [
            "Datos del Estudiante:\n",
            "Nombre: Juan Pérez\n",
            "Edad: 20 años\n",
            "¿Cuál es tu asignatura favorita? programacion\n",
            "¡Qué bien! Tu asignatura favorita es programacion.\n"
          ]
        }
      ],
      "source": [
        " # 1. Variables y tipos de datos\n",
        " nombre_estudiante = \"Juan Pérez\"\n",
        " edad = 20\n",
        " promedio = 4.2\n",
        " es_regular = True\n",
        " # 2. La función print() para mostrar información\n",
        " print(\"Datos del Estudiante:\")\n",
        " print(\"Nombre:\", nombre_estudiante)\n",
        " print(f\"Edad: {edad} años\") # Usando f-strings, una forma moderna y útil\n",
        " # 3. La función input() para recibir datos del usuario\n",
        " asignatura_favorita = input(\"¿Cuál es tu asignatura favorita? \")\n",
        " print(f\"¡Qué bien! Tu asignatura favorita es {asignatura_favorita}.\")"
      ]
    }
  ]
}