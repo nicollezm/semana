{
  "nbformat": 4,
  "nbformat_minor": 0,
  "metadata": {
    "colab": {
      "provenance": [],
      "authorship_tag": "ABX9TyN3uICdnig0jsy7dDO4Egh1",
      "include_colab_link": true
    },
    "kernelspec": {
      "name": "python3",
      "display_name": "Python 3"
    },
    "language_info": {
      "name": "python"
    }
  },
  "cells": [
    {
      "cell_type": "markdown",
      "metadata": {
        "id": "view-in-github",
        "colab_type": "text"
      },
      "source": [
        "<a href=\"https://colab.research.google.com/github/nicollezm/semana/blob/main/situaciones_civiles_semana_01.ipynb\" target=\"_parent\"><img src=\"https://colab.research.google.com/assets/colab-badge.svg\" alt=\"Open In Colab\"/></a>"
      ]
    },
    {
      "cell_type": "code",
      "execution_count": null,
      "metadata": {
        "id": "djiWMSSRG_OL"
      },
      "outputs": [],
      "source": []
    },
    {
      "cell_type": "markdown",
      "source": [
        "# Situación de Interés en Ingeniería Agrícola:\n",
        "Un agricultor necesita saber cuántos kilogramos\n",
        "de semilla de maíz debe comprar para sembrar un lote rectangular. Conoce la densidad de siembra\n",
        "recomendada (kg por hectárea) y las dimensiones del lote (largo y ancho en metros).\n",
        "\n"
      ],
      "metadata": {
        "id": "-3QY84fXH17W"
      }
    },
    {
      "cell_type": "code",
      "source": [
        "# calculo de semillas\n",
        "# 1. Saludar al usuario y explicar qué hace el programa.\n",
        "# print(\"bienvenido al calculo de semillas\")\n",
        "\n",
        "# 2. Pedir al usuario que ingrese el largo del lote en metros (input sin conversion)\n",
        "# largo = input(\"ingrese el largo del lote en metros\")\n",
        "\n",
        "# 3. Pedir el ancho del lote en metros (input sin conversion).\n",
        "ancho = float(input(\"Ingrese el ancho del lote en metros: \"))\n",
        "\n",
        "# 4. Pedir la densidad de siembra en kg/hectárea (input).\n",
        "densidad = float(input(\"Ingrese la densidad de siembra en kg/hectárea: \"))\n",
        "\n",
        "# 5. Convertir las entradas de texto a números decimales (float)\n",
        " largo = float(largo)\n",
        " ancho = float(ancho)\n",
        " densidad = float(densidad)\n",
        "\n",
        " # 6. Calcular el área en metros cuadrados (largo * ancho).\n",
        "  area = largo * ancho\n",
        "\n",
        " #  7. Convertir el área a hectáreas (1 hectárea = 10,000 m²).\n",
        " area = area / 10000\n",
        "\n",
        " #  8. Calcular la cantidad total de semilla (área en hectáreas * densidad).\n",
        " semilla = area * densidad\n",
        "\n",
        " # 9. Mostrar el resultado final al usuario\n",
        " print(\"La cantidad total de semillas a comprar es:\", semilla, \"kg\")"
      ],
      "metadata": {
        "id": "MGj2HAGFISWq"
      },
      "execution_count": null,
      "outputs": []
    }
  ]
}